{
  "cells": [
    {
      "cell_type": "markdown",
      "metadata": {
        "id": "H9wADwK78DCz"
      },
      "source": [
        "# Proyek Analisis Data: Air-Quality-Dataset\n",
        "- **Nama:** Sahal Maghfud\n",
        "- **Email:** sahalcocgood@gmail.com\n",
        "- **ID Dicoding:** sahal_maghfud_OuI7"
      ]
    },
    {
      "cell_type": "markdown",
      "metadata": {
        "id": "eE0raob58DC0"
      },
      "source": [
        "## Menentukan Pertanyaan Bisnis"
      ]
    },
    {
      "cell_type": "markdown",
      "metadata": {
        "id": "GmQeQ5YF8DC0"
      },
      "source": [
        "- Di antara stasiun Aotizhongxin,Changping,Dingling,Dongsi mana yang memiliki kualitas udara terburuk dalam satu tahun terakhir berdasarkan level PM2.5?\n",
        "- Di bulan apa curah hujan paling tinggi terjadi  di stasiun Aotizhongxin,Changping,Dingling,Dongsi ?"
      ]
    },
    {
      "cell_type": "markdown",
      "metadata": {
        "id": "H-z4QGlO8DC1"
      },
      "source": [
        "## Import Semua Packages/Library yang Digunakan"
      ]
    },
    {
      "cell_type": "code",
      "execution_count": 4,
      "metadata": {
        "id": "FVYwaObI8DC1"
      },
      "outputs": [],
      "source": [
        "import pandas as pd\n",
        "import matplotlib.pyplot as plt"
      ]
    },
    {
      "cell_type": "markdown",
      "metadata": {
        "id": "h_Sh51Xy8DC1"
      },
      "source": [
        "## Data Wrangling"
      ]
    },
    {
      "cell_type": "markdown",
      "metadata": {},
      "source": [
        "### Garthering data"
      ]
    },
    {
      "cell_type": "code",
      "execution_count": 5,
      "metadata": {
        "colab": {
          "base_uri": "https://localhost:8080/",
          "height": 297
        },
        "id": "zjCBk1BI8DC1",
        "outputId": "448f1829-e4bf-4f7a-a9b9-d2695d1db898"
      },
      "outputs": [],
      "source": [
        "data_Aotizhongxin_df = pd.read_csv('./data/PRSA_Data_Aotizhongxin_20130301-20170228.csv')\n",
        "data_Changping_df = pd.read_csv('./data/PRSA_Data_Changping_20130301-20170228.csv')\n",
        "data_Dingling_df = pd.read_csv('./data/PRSA_Data_Dingling_20130301-20170228.csv')\n",
        "data_Dongsi_df = pd.read_csv('./data/PRSA_Data_Dongsi_20130301-20170228.csv')"
      ]
    },
    {
      "cell_type": "markdown",
      "metadata": {},
      "source": [
        "-membaca semua data dari file csv"
      ]
    },
    {
      "cell_type": "code",
      "execution_count": 6,
      "metadata": {},
      "outputs": [
        {
          "data": {
            "text/html": [
              "<div>\n",
              "<style scoped>\n",
              "    .dataframe tbody tr th:only-of-type {\n",
              "        vertical-align: middle;\n",
              "    }\n",
              "\n",
              "    .dataframe tbody tr th {\n",
              "        vertical-align: top;\n",
              "    }\n",
              "\n",
              "    .dataframe thead th {\n",
              "        text-align: right;\n",
              "    }\n",
              "</style>\n",
              "<table border=\"1\" class=\"dataframe\">\n",
              "  <thead>\n",
              "    <tr style=\"text-align: right;\">\n",
              "      <th></th>\n",
              "      <th>No</th>\n",
              "      <th>year</th>\n",
              "      <th>month</th>\n",
              "      <th>day</th>\n",
              "      <th>hour</th>\n",
              "      <th>PM2.5</th>\n",
              "      <th>PM10</th>\n",
              "      <th>SO2</th>\n",
              "      <th>NO2</th>\n",
              "      <th>CO</th>\n",
              "      <th>O3</th>\n",
              "      <th>TEMP</th>\n",
              "      <th>PRES</th>\n",
              "      <th>DEWP</th>\n",
              "      <th>RAIN</th>\n",
              "      <th>wd</th>\n",
              "      <th>WSPM</th>\n",
              "      <th>station</th>\n",
              "    </tr>\n",
              "  </thead>\n",
              "  <tbody>\n",
              "    <tr>\n",
              "      <th>0</th>\n",
              "      <td>1</td>\n",
              "      <td>2013</td>\n",
              "      <td>3</td>\n",
              "      <td>1</td>\n",
              "      <td>0</td>\n",
              "      <td>4.0</td>\n",
              "      <td>4.0</td>\n",
              "      <td>4.0</td>\n",
              "      <td>7.0</td>\n",
              "      <td>300.0</td>\n",
              "      <td>77.0</td>\n",
              "      <td>-0.7</td>\n",
              "      <td>1023.0</td>\n",
              "      <td>-18.8</td>\n",
              "      <td>0.0</td>\n",
              "      <td>NNW</td>\n",
              "      <td>4.4</td>\n",
              "      <td>Aotizhongxin</td>\n",
              "    </tr>\n",
              "    <tr>\n",
              "      <th>1</th>\n",
              "      <td>2</td>\n",
              "      <td>2013</td>\n",
              "      <td>3</td>\n",
              "      <td>1</td>\n",
              "      <td>1</td>\n",
              "      <td>8.0</td>\n",
              "      <td>8.0</td>\n",
              "      <td>4.0</td>\n",
              "      <td>7.0</td>\n",
              "      <td>300.0</td>\n",
              "      <td>77.0</td>\n",
              "      <td>-1.1</td>\n",
              "      <td>1023.2</td>\n",
              "      <td>-18.2</td>\n",
              "      <td>0.0</td>\n",
              "      <td>N</td>\n",
              "      <td>4.7</td>\n",
              "      <td>Aotizhongxin</td>\n",
              "    </tr>\n",
              "    <tr>\n",
              "      <th>2</th>\n",
              "      <td>3</td>\n",
              "      <td>2013</td>\n",
              "      <td>3</td>\n",
              "      <td>1</td>\n",
              "      <td>2</td>\n",
              "      <td>7.0</td>\n",
              "      <td>7.0</td>\n",
              "      <td>5.0</td>\n",
              "      <td>10.0</td>\n",
              "      <td>300.0</td>\n",
              "      <td>73.0</td>\n",
              "      <td>-1.1</td>\n",
              "      <td>1023.5</td>\n",
              "      <td>-18.2</td>\n",
              "      <td>0.0</td>\n",
              "      <td>NNW</td>\n",
              "      <td>5.6</td>\n",
              "      <td>Aotizhongxin</td>\n",
              "    </tr>\n",
              "    <tr>\n",
              "      <th>3</th>\n",
              "      <td>4</td>\n",
              "      <td>2013</td>\n",
              "      <td>3</td>\n",
              "      <td>1</td>\n",
              "      <td>3</td>\n",
              "      <td>6.0</td>\n",
              "      <td>6.0</td>\n",
              "      <td>11.0</td>\n",
              "      <td>11.0</td>\n",
              "      <td>300.0</td>\n",
              "      <td>72.0</td>\n",
              "      <td>-1.4</td>\n",
              "      <td>1024.5</td>\n",
              "      <td>-19.4</td>\n",
              "      <td>0.0</td>\n",
              "      <td>NW</td>\n",
              "      <td>3.1</td>\n",
              "      <td>Aotizhongxin</td>\n",
              "    </tr>\n",
              "    <tr>\n",
              "      <th>4</th>\n",
              "      <td>5</td>\n",
              "      <td>2013</td>\n",
              "      <td>3</td>\n",
              "      <td>1</td>\n",
              "      <td>4</td>\n",
              "      <td>3.0</td>\n",
              "      <td>3.0</td>\n",
              "      <td>12.0</td>\n",
              "      <td>12.0</td>\n",
              "      <td>300.0</td>\n",
              "      <td>72.0</td>\n",
              "      <td>-2.0</td>\n",
              "      <td>1025.2</td>\n",
              "      <td>-19.5</td>\n",
              "      <td>0.0</td>\n",
              "      <td>N</td>\n",
              "      <td>2.0</td>\n",
              "      <td>Aotizhongxin</td>\n",
              "    </tr>\n",
              "  </tbody>\n",
              "</table>\n",
              "</div>"
            ],
            "text/plain": [
              "   No  year  month  day  hour  PM2.5  PM10   SO2   NO2     CO    O3  TEMP  \\\n",
              "0   1  2013      3    1     0    4.0   4.0   4.0   7.0  300.0  77.0  -0.7   \n",
              "1   2  2013      3    1     1    8.0   8.0   4.0   7.0  300.0  77.0  -1.1   \n",
              "2   3  2013      3    1     2    7.0   7.0   5.0  10.0  300.0  73.0  -1.1   \n",
              "3   4  2013      3    1     3    6.0   6.0  11.0  11.0  300.0  72.0  -1.4   \n",
              "4   5  2013      3    1     4    3.0   3.0  12.0  12.0  300.0  72.0  -2.0   \n",
              "\n",
              "     PRES  DEWP  RAIN   wd  WSPM       station  \n",
              "0  1023.0 -18.8   0.0  NNW   4.4  Aotizhongxin  \n",
              "1  1023.2 -18.2   0.0    N   4.7  Aotizhongxin  \n",
              "2  1023.5 -18.2   0.0  NNW   5.6  Aotizhongxin  \n",
              "3  1024.5 -19.4   0.0   NW   3.1  Aotizhongxin  \n",
              "4  1025.2 -19.5   0.0    N   2.0  Aotizhongxin  "
            ]
          },
          "execution_count": 6,
          "metadata": {},
          "output_type": "execute_result"
        }
      ],
      "source": [
        "all_data_df = pd.concat([\n",
        "    data_Aotizhongxin_df,\n",
        "    data_Changping_df,\n",
        "    data_Dingling_df,\n",
        "    data_Dongsi_df,\n",
        "])\n",
        "all_data_df.head()"
      ]
    },
    {
      "cell_type": "markdown",
      "metadata": {
        "id": "MMi6xGaDkbCi"
      },
      "source": [
        "\n",
        "- menggabungkan semua data menjadi satu karena semua data memiliki field yang sama"
      ]
    },
    {
      "cell_type": "markdown",
      "metadata": {
        "id": "FHSiqaZp8DC1"
      },
      "source": [
        "### Assessing Data"
      ]
    },
    {
      "cell_type": "code",
      "execution_count": 7,
      "metadata": {
        "id": "ax-3tEjc9Cj1"
      },
      "outputs": [
        {
          "name": "stdout",
          "output_type": "stream",
          "text": [
            "<class 'pandas.core.frame.DataFrame'>\n",
            "Index: 140256 entries, 0 to 35063\n",
            "Data columns (total 18 columns):\n",
            " #   Column   Non-Null Count   Dtype  \n",
            "---  ------   --------------   -----  \n",
            " 0   No       140256 non-null  int64  \n",
            " 1   year     140256 non-null  int64  \n",
            " 2   month    140256 non-null  int64  \n",
            " 3   day      140256 non-null  int64  \n",
            " 4   hour     140256 non-null  int64  \n",
            " 5   PM2.5    137028 non-null  float64\n",
            " 6   PM10     137747 non-null  float64\n",
            " 7   SO2      137300 non-null  float64\n",
            " 8   NO2      135731 non-null  float64\n",
            " 9   CO       131750 non-null  float64\n",
            " 10  O3       136055 non-null  float64\n",
            " 11  TEMP     140110 non-null  float64\n",
            " 12  PRES     140116 non-null  float64\n",
            " 13  DEWP     140110 non-null  float64\n",
            " 14  RAIN     140114 non-null  float64\n",
            " 15  wd       139817 non-null  object \n",
            " 16  WSPM     140142 non-null  float64\n",
            " 17  station  140256 non-null  object \n",
            "dtypes: float64(11), int64(5), object(2)\n",
            "memory usage: 20.3+ MB\n"
          ]
        }
      ],
      "source": [
        "all_data_df.info()"
      ]
    },
    {
      "cell_type": "markdown",
      "metadata": {
        "id": "7dtxhAPrkhPL"
      },
      "source": [
        "**Insight:**\n",
        "- terdapat missing value pada column pm2.5,pm10,so2,no2,co,o3,temp,pres,dewp,rain,wd,wspm"
      ]
    },
    {
      "cell_type": "code",
      "execution_count": 8,
      "metadata": {},
      "outputs": [
        {
          "name": "stdout",
          "output_type": "stream",
          "text": [
            "Jumlah duplikasi:  0\n"
          ]
        },
        {
          "data": {
            "text/html": [
              "<div>\n",
              "<style scoped>\n",
              "    .dataframe tbody tr th:only-of-type {\n",
              "        vertical-align: middle;\n",
              "    }\n",
              "\n",
              "    .dataframe tbody tr th {\n",
              "        vertical-align: top;\n",
              "    }\n",
              "\n",
              "    .dataframe thead th {\n",
              "        text-align: right;\n",
              "    }\n",
              "</style>\n",
              "<table border=\"1\" class=\"dataframe\">\n",
              "  <thead>\n",
              "    <tr style=\"text-align: right;\">\n",
              "      <th></th>\n",
              "      <th>No</th>\n",
              "      <th>year</th>\n",
              "      <th>month</th>\n",
              "      <th>day</th>\n",
              "      <th>hour</th>\n",
              "      <th>PM2.5</th>\n",
              "      <th>PM10</th>\n",
              "      <th>SO2</th>\n",
              "      <th>NO2</th>\n",
              "      <th>CO</th>\n",
              "      <th>O3</th>\n",
              "      <th>TEMP</th>\n",
              "      <th>PRES</th>\n",
              "      <th>DEWP</th>\n",
              "      <th>RAIN</th>\n",
              "      <th>WSPM</th>\n",
              "    </tr>\n",
              "  </thead>\n",
              "  <tbody>\n",
              "    <tr>\n",
              "      <th>count</th>\n",
              "      <td>140256.000</td>\n",
              "      <td>140256.000000</td>\n",
              "      <td>140256.000000</td>\n",
              "      <td>140256.000000</td>\n",
              "      <td>140256.000000</td>\n",
              "      <td>137028.000000</td>\n",
              "      <td>137747.000000</td>\n",
              "      <td>137300.000000</td>\n",
              "      <td>135731.000000</td>\n",
              "      <td>131750.000000</td>\n",
              "      <td>136055.000000</td>\n",
              "      <td>140110.000000</td>\n",
              "      <td>140116.000000</td>\n",
              "      <td>140110.000000</td>\n",
              "      <td>140114.000000</td>\n",
              "      <td>140142.000000</td>\n",
              "    </tr>\n",
              "    <tr>\n",
              "      <th>mean</th>\n",
              "      <td>17532.500</td>\n",
              "      <td>2014.662560</td>\n",
              "      <td>6.522930</td>\n",
              "      <td>15.729637</td>\n",
              "      <td>11.500000</td>\n",
              "      <td>76.509469</td>\n",
              "      <td>99.699265</td>\n",
              "      <td>15.652207</td>\n",
              "      <td>46.184894</td>\n",
              "      <td>1161.187856</td>\n",
              "      <td>60.006053</td>\n",
              "      <td>13.657066</td>\n",
              "      <td>1009.979674</td>\n",
              "      <td>2.145698</td>\n",
              "      <td>0.063044</td>\n",
              "      <td>1.819224</td>\n",
              "    </tr>\n",
              "    <tr>\n",
              "      <th>std</th>\n",
              "      <td>10122.141</td>\n",
              "      <td>1.177201</td>\n",
              "      <td>3.448715</td>\n",
              "      <td>8.800123</td>\n",
              "      <td>6.922211</td>\n",
              "      <td>79.003869</td>\n",
              "      <td>90.144962</td>\n",
              "      <td>20.934323</td>\n",
              "      <td>34.182889</td>\n",
              "      <td>1122.798614</td>\n",
              "      <td>56.253474</td>\n",
              "      <td>11.397070</td>\n",
              "      <td>10.520088</td>\n",
              "      <td>13.802808</td>\n",
              "      <td>0.803161</td>\n",
              "      <td>1.278322</td>\n",
              "    </tr>\n",
              "    <tr>\n",
              "      <th>min</th>\n",
              "      <td>1.000</td>\n",
              "      <td>2013.000000</td>\n",
              "      <td>1.000000</td>\n",
              "      <td>1.000000</td>\n",
              "      <td>0.000000</td>\n",
              "      <td>2.000000</td>\n",
              "      <td>2.000000</td>\n",
              "      <td>0.285600</td>\n",
              "      <td>1.026500</td>\n",
              "      <td>100.000000</td>\n",
              "      <td>0.214200</td>\n",
              "      <td>-16.800000</td>\n",
              "      <td>982.400000</td>\n",
              "      <td>-35.300000</td>\n",
              "      <td>0.000000</td>\n",
              "      <td>0.000000</td>\n",
              "    </tr>\n",
              "    <tr>\n",
              "      <th>25%</th>\n",
              "      <td>8766.750</td>\n",
              "      <td>2014.000000</td>\n",
              "      <td>4.000000</td>\n",
              "      <td>8.000000</td>\n",
              "      <td>5.750000</td>\n",
              "      <td>18.000000</td>\n",
              "      <td>33.000000</td>\n",
              "      <td>3.000000</td>\n",
              "      <td>20.000000</td>\n",
              "      <td>500.000000</td>\n",
              "      <td>15.000000</td>\n",
              "      <td>3.300000</td>\n",
              "      <td>1001.400000</td>\n",
              "      <td>-9.400000</td>\n",
              "      <td>0.000000</td>\n",
              "      <td>1.000000</td>\n",
              "    </tr>\n",
              "    <tr>\n",
              "      <th>50%</th>\n",
              "      <td>17532.500</td>\n",
              "      <td>2015.000000</td>\n",
              "      <td>7.000000</td>\n",
              "      <td>16.000000</td>\n",
              "      <td>11.500000</td>\n",
              "      <td>51.000000</td>\n",
              "      <td>76.000000</td>\n",
              "      <td>7.711200</td>\n",
              "      <td>38.000000</td>\n",
              "      <td>800.000000</td>\n",
              "      <td>49.000000</td>\n",
              "      <td>14.600000</td>\n",
              "      <td>1009.600000</td>\n",
              "      <td>2.600000</td>\n",
              "      <td>0.000000</td>\n",
              "      <td>1.500000</td>\n",
              "    </tr>\n",
              "    <tr>\n",
              "      <th>75%</th>\n",
              "      <td>26298.250</td>\n",
              "      <td>2016.000000</td>\n",
              "      <td>10.000000</td>\n",
              "      <td>23.000000</td>\n",
              "      <td>17.250000</td>\n",
              "      <td>107.000000</td>\n",
              "      <td>139.000000</td>\n",
              "      <td>19.000000</td>\n",
              "      <td>66.000000</td>\n",
              "      <td>1400.000000</td>\n",
              "      <td>84.000000</td>\n",
              "      <td>23.300000</td>\n",
              "      <td>1018.300000</td>\n",
              "      <td>14.800000</td>\n",
              "      <td>0.000000</td>\n",
              "      <td>2.300000</td>\n",
              "    </tr>\n",
              "    <tr>\n",
              "      <th>max</th>\n",
              "      <td>35064.000</td>\n",
              "      <td>2017.000000</td>\n",
              "      <td>12.000000</td>\n",
              "      <td>31.000000</td>\n",
              "      <td>23.000000</td>\n",
              "      <td>898.000000</td>\n",
              "      <td>999.000000</td>\n",
              "      <td>341.000000</td>\n",
              "      <td>290.000000</td>\n",
              "      <td>10000.000000</td>\n",
              "      <td>1071.000000</td>\n",
              "      <td>41.400000</td>\n",
              "      <td>1042.000000</td>\n",
              "      <td>28.800000</td>\n",
              "      <td>72.500000</td>\n",
              "      <td>11.200000</td>\n",
              "    </tr>\n",
              "  </tbody>\n",
              "</table>\n",
              "</div>"
            ],
            "text/plain": [
              "               No           year          month            day           hour  \\\n",
              "count  140256.000  140256.000000  140256.000000  140256.000000  140256.000000   \n",
              "mean    17532.500    2014.662560       6.522930      15.729637      11.500000   \n",
              "std     10122.141       1.177201       3.448715       8.800123       6.922211   \n",
              "min         1.000    2013.000000       1.000000       1.000000       0.000000   \n",
              "25%      8766.750    2014.000000       4.000000       8.000000       5.750000   \n",
              "50%     17532.500    2015.000000       7.000000      16.000000      11.500000   \n",
              "75%     26298.250    2016.000000      10.000000      23.000000      17.250000   \n",
              "max     35064.000    2017.000000      12.000000      31.000000      23.000000   \n",
              "\n",
              "               PM2.5           PM10            SO2            NO2  \\\n",
              "count  137028.000000  137747.000000  137300.000000  135731.000000   \n",
              "mean       76.509469      99.699265      15.652207      46.184894   \n",
              "std        79.003869      90.144962      20.934323      34.182889   \n",
              "min         2.000000       2.000000       0.285600       1.026500   \n",
              "25%        18.000000      33.000000       3.000000      20.000000   \n",
              "50%        51.000000      76.000000       7.711200      38.000000   \n",
              "75%       107.000000     139.000000      19.000000      66.000000   \n",
              "max       898.000000     999.000000     341.000000     290.000000   \n",
              "\n",
              "                  CO             O3           TEMP           PRES  \\\n",
              "count  131750.000000  136055.000000  140110.000000  140116.000000   \n",
              "mean     1161.187856      60.006053      13.657066    1009.979674   \n",
              "std      1122.798614      56.253474      11.397070      10.520088   \n",
              "min       100.000000       0.214200     -16.800000     982.400000   \n",
              "25%       500.000000      15.000000       3.300000    1001.400000   \n",
              "50%       800.000000      49.000000      14.600000    1009.600000   \n",
              "75%      1400.000000      84.000000      23.300000    1018.300000   \n",
              "max     10000.000000    1071.000000      41.400000    1042.000000   \n",
              "\n",
              "                DEWP           RAIN           WSPM  \n",
              "count  140110.000000  140114.000000  140142.000000  \n",
              "mean        2.145698       0.063044       1.819224  \n",
              "std        13.802808       0.803161       1.278322  \n",
              "min       -35.300000       0.000000       0.000000  \n",
              "25%        -9.400000       0.000000       1.000000  \n",
              "50%         2.600000       0.000000       1.500000  \n",
              "75%        14.800000       0.000000       2.300000  \n",
              "max        28.800000      72.500000      11.200000  "
            ]
          },
          "execution_count": 8,
          "metadata": {},
          "output_type": "execute_result"
        }
      ],
      "source": [
        "print(\"Jumlah duplikasi: \", all_data_df.duplicated().sum())\n",
        "all_data_df.describe()"
      ]
    },
    {
      "cell_type": "markdown",
      "metadata": {},
      "source": [
        "**Insight:**\n",
        "- tidak terdapat duplikasi pada data\n",
        "- ada data yang memiliki nilai max yang tidak wajar yaitu pada column pm2.5,pm10,o3 dan co"
      ]
    },
    {
      "cell_type": "markdown",
      "metadata": {
        "id": "EhN5R4hr8DC1"
      },
      "source": [
        "### Cleaning Data"
      ]
    },
    {
      "cell_type": "markdown",
      "metadata": {},
      "source": [
        "##### Missing Value"
      ]
    },
    {
      "cell_type": "code",
      "execution_count": 9,
      "metadata": {},
      "outputs": [
        {
          "name": "stderr",
          "output_type": "stream",
          "text": [
            "C:\\Users\\Sahal Maghfud\\AppData\\Local\\Temp\\ipykernel_32808\\3952919593.py:6: FutureWarning: A value is trying to be set on a copy of a DataFrame or Series through chained assignment using an inplace method.\n",
            "The behavior will change in pandas 3.0. This inplace method will never work because the intermediate object on which we are setting values always behaves as a copy.\n",
            "\n",
            "For example, when doing 'df[col].method(value, inplace=True)', try using 'df.method({col: value}, inplace=True)' or df[col] = df[col].method(value) instead, to perform the operation inplace on the original object.\n",
            "\n",
            "\n",
            "  all_data_df[col].fillna(all_data_df[col].median(), inplace=True)\n",
            "C:\\Users\\Sahal Maghfud\\AppData\\Local\\Temp\\ipykernel_32808\\3952919593.py:6: FutureWarning: A value is trying to be set on a copy of a DataFrame or Series through chained assignment using an inplace method.\n",
            "The behavior will change in pandas 3.0. This inplace method will never work because the intermediate object on which we are setting values always behaves as a copy.\n",
            "\n",
            "For example, when doing 'df[col].method(value, inplace=True)', try using 'df.method({col: value}, inplace=True)' or df[col] = df[col].method(value) instead, to perform the operation inplace on the original object.\n",
            "\n",
            "\n",
            "  all_data_df[col].fillna(all_data_df[col].median(), inplace=True)\n",
            "C:\\Users\\Sahal Maghfud\\AppData\\Local\\Temp\\ipykernel_32808\\3952919593.py:6: FutureWarning: A value is trying to be set on a copy of a DataFrame or Series through chained assignment using an inplace method.\n",
            "The behavior will change in pandas 3.0. This inplace method will never work because the intermediate object on which we are setting values always behaves as a copy.\n",
            "\n",
            "For example, when doing 'df[col].method(value, inplace=True)', try using 'df.method({col: value}, inplace=True)' or df[col] = df[col].method(value) instead, to perform the operation inplace on the original object.\n",
            "\n",
            "\n",
            "  all_data_df[col].fillna(all_data_df[col].median(), inplace=True)\n",
            "C:\\Users\\Sahal Maghfud\\AppData\\Local\\Temp\\ipykernel_32808\\3952919593.py:6: FutureWarning: A value is trying to be set on a copy of a DataFrame or Series through chained assignment using an inplace method.\n",
            "The behavior will change in pandas 3.0. This inplace method will never work because the intermediate object on which we are setting values always behaves as a copy.\n",
            "\n",
            "For example, when doing 'df[col].method(value, inplace=True)', try using 'df.method({col: value}, inplace=True)' or df[col] = df[col].method(value) instead, to perform the operation inplace on the original object.\n",
            "\n",
            "\n",
            "  all_data_df[col].fillna(all_data_df[col].median(), inplace=True)\n",
            "C:\\Users\\Sahal Maghfud\\AppData\\Local\\Temp\\ipykernel_32808\\3952919593.py:6: FutureWarning: A value is trying to be set on a copy of a DataFrame or Series through chained assignment using an inplace method.\n",
            "The behavior will change in pandas 3.0. This inplace method will never work because the intermediate object on which we are setting values always behaves as a copy.\n",
            "\n",
            "For example, when doing 'df[col].method(value, inplace=True)', try using 'df.method({col: value}, inplace=True)' or df[col] = df[col].method(value) instead, to perform the operation inplace on the original object.\n",
            "\n",
            "\n",
            "  all_data_df[col].fillna(all_data_df[col].median(), inplace=True)\n",
            "C:\\Users\\Sahal Maghfud\\AppData\\Local\\Temp\\ipykernel_32808\\3952919593.py:6: FutureWarning: A value is trying to be set on a copy of a DataFrame or Series through chained assignment using an inplace method.\n",
            "The behavior will change in pandas 3.0. This inplace method will never work because the intermediate object on which we are setting values always behaves as a copy.\n",
            "\n",
            "For example, when doing 'df[col].method(value, inplace=True)', try using 'df.method({col: value}, inplace=True)' or df[col] = df[col].method(value) instead, to perform the operation inplace on the original object.\n",
            "\n",
            "\n",
            "  all_data_df[col].fillna(all_data_df[col].median(), inplace=True)\n",
            "C:\\Users\\Sahal Maghfud\\AppData\\Local\\Temp\\ipykernel_32808\\3952919593.py:6: FutureWarning: A value is trying to be set on a copy of a DataFrame or Series through chained assignment using an inplace method.\n",
            "The behavior will change in pandas 3.0. This inplace method will never work because the intermediate object on which we are setting values always behaves as a copy.\n",
            "\n",
            "For example, when doing 'df[col].method(value, inplace=True)', try using 'df.method({col: value}, inplace=True)' or df[col] = df[col].method(value) instead, to perform the operation inplace on the original object.\n",
            "\n",
            "\n",
            "  all_data_df[col].fillna(all_data_df[col].median(), inplace=True)\n",
            "C:\\Users\\Sahal Maghfud\\AppData\\Local\\Temp\\ipykernel_32808\\3952919593.py:6: FutureWarning: A value is trying to be set on a copy of a DataFrame or Series through chained assignment using an inplace method.\n",
            "The behavior will change in pandas 3.0. This inplace method will never work because the intermediate object on which we are setting values always behaves as a copy.\n",
            "\n",
            "For example, when doing 'df[col].method(value, inplace=True)', try using 'df.method({col: value}, inplace=True)' or df[col] = df[col].method(value) instead, to perform the operation inplace on the original object.\n",
            "\n",
            "\n",
            "  all_data_df[col].fillna(all_data_df[col].median(), inplace=True)\n",
            "C:\\Users\\Sahal Maghfud\\AppData\\Local\\Temp\\ipykernel_32808\\3952919593.py:6: FutureWarning: A value is trying to be set on a copy of a DataFrame or Series through chained assignment using an inplace method.\n",
            "The behavior will change in pandas 3.0. This inplace method will never work because the intermediate object on which we are setting values always behaves as a copy.\n",
            "\n",
            "For example, when doing 'df[col].method(value, inplace=True)', try using 'df.method({col: value}, inplace=True)' or df[col] = df[col].method(value) instead, to perform the operation inplace on the original object.\n",
            "\n",
            "\n",
            "  all_data_df[col].fillna(all_data_df[col].median(), inplace=True)\n",
            "C:\\Users\\Sahal Maghfud\\AppData\\Local\\Temp\\ipykernel_32808\\3952919593.py:6: FutureWarning: A value is trying to be set on a copy of a DataFrame or Series through chained assignment using an inplace method.\n",
            "The behavior will change in pandas 3.0. This inplace method will never work because the intermediate object on which we are setting values always behaves as a copy.\n",
            "\n",
            "For example, when doing 'df[col].method(value, inplace=True)', try using 'df.method({col: value}, inplace=True)' or df[col] = df[col].method(value) instead, to perform the operation inplace on the original object.\n",
            "\n",
            "\n",
            "  all_data_df[col].fillna(all_data_df[col].median(), inplace=True)\n",
            "C:\\Users\\Sahal Maghfud\\AppData\\Local\\Temp\\ipykernel_32808\\3952919593.py:10: FutureWarning: A value is trying to be set on a copy of a DataFrame or Series through chained assignment using an inplace method.\n",
            "The behavior will change in pandas 3.0. This inplace method will never work because the intermediate object on which we are setting values always behaves as a copy.\n",
            "\n",
            "For example, when doing 'df[col].method(value, inplace=True)', try using 'df.method({col: value}, inplace=True)' or df[col] = df[col].method(value) instead, to perform the operation inplace on the original object.\n",
            "\n",
            "\n",
            "  all_data_df[col].fillna(all_data_df[col].mode()[0], inplace=True)\n"
          ]
        }
      ],
      "source": [
        "median_columns = ['PM2.5', 'PM10', 'SO2', 'NO2', 'CO', 'O3', 'TEMP', 'PRES', 'DEWP', 'WSPM']\n",
        "mode_columns = ['RAIN',\"wd\"]\n",
        "\n",
        "# Mengisi missing values dengan median untuk kolom median_columns\n",
        "for col in median_columns:\n",
        "    all_data_df[col].fillna(all_data_df[col].median(), inplace=True)\n",
        "\n",
        "# Mengisi missing values dengan mode untuk kolom mode_columns\n",
        "for col in mode_columns:\n",
        "    all_data_df[col].fillna(all_data_df[col].mode()[0], inplace=True)\n"
      ]
    },
    {
      "cell_type": "markdown",
      "metadata": {},
      "source": [
        "mempertimbangkan adanya outlier pada data maka saya menggunakan median untuk mengisi missing value"
      ]
    },
    {
      "cell_type": "code",
      "execution_count": 10,
      "metadata": {},
      "outputs": [
        {
          "name": "stdout",
          "output_type": "stream",
          "text": [
            "<class 'pandas.core.frame.DataFrame'>\n",
            "Index: 140256 entries, 0 to 35063\n",
            "Data columns (total 18 columns):\n",
            " #   Column   Non-Null Count   Dtype  \n",
            "---  ------   --------------   -----  \n",
            " 0   No       140256 non-null  int64  \n",
            " 1   year     140256 non-null  int64  \n",
            " 2   month    140256 non-null  int64  \n",
            " 3   day      140256 non-null  int64  \n",
            " 4   hour     140256 non-null  int64  \n",
            " 5   PM2.5    140256 non-null  float64\n",
            " 6   PM10     140256 non-null  float64\n",
            " 7   SO2      140256 non-null  float64\n",
            " 8   NO2      140256 non-null  float64\n",
            " 9   CO       140256 non-null  float64\n",
            " 10  O3       140256 non-null  float64\n",
            " 11  TEMP     140256 non-null  float64\n",
            " 12  PRES     140256 non-null  float64\n",
            " 13  DEWP     140256 non-null  float64\n",
            " 14  RAIN     140256 non-null  float64\n",
            " 15  wd       140256 non-null  object \n",
            " 16  WSPM     140256 non-null  float64\n",
            " 17  station  140256 non-null  object \n",
            "dtypes: float64(11), int64(5), object(2)\n",
            "memory usage: 20.3+ MB\n"
          ]
        }
      ],
      "source": [
        "all_data_df.info()"
      ]
    },
    {
      "cell_type": "markdown",
      "metadata": {},
      "source": [
        "tidak ada lagi missing value"
      ]
    },
    {
      "cell_type": "markdown",
      "metadata": {},
      "source": [
        "##### inaccurate values"
      ]
    },
    {
      "cell_type": "markdown",
      "metadata": {},
      "source": [
        "* nilai yang saya gunakan hanya perkiraan saja karena saya tidak mengetahui batasan yang mungkin untuk setiap value"
      ]
    },
    {
      "cell_type": "code",
      "execution_count": 11,
      "metadata": {},
      "outputs": [
        {
          "data": {
            "image/png": "[encoded data removed]",
            "text/plain": [
              "<Figure size 640x480 with 1 Axes>"
            ]
          },
          "metadata": {},
          "output_type": "display_data"
        }
      ],
      "source": [
        "# PM 2.5 \n",
        "all_data_df['PM2.5'].hist()\n",
        "all_data_df.loc[all_data_df['PM2.5'] > 500, 'PM2.5'] = 500"
      ]
    },
    {
      "cell_type": "code",
      "execution_count": 12,
      "metadata": {},
      "outputs": [
        {
          "data": {
            "image/png": "[encoded data removed]",
            "text/plain": [
              "<Figure size 640x480 with 1 Axes>"
            ]
          },
          "metadata": {},
          "output_type": "display_data"
        }
      ],
      "source": [
        "# PM10 \n",
        "all_data_df['PM10'].hist()\n",
        "all_data_df.loc[all_data_df['PM10'] > 500, 'PM10'] = 500"
      ]
    },
    {
      "cell_type": "code",
      "execution_count": 13,
      "metadata": {},
      "outputs": [
        {
          "data": {
            "image/png": "[encoded data removed]",
            "text/plain": [
              "<Figure size 640x480 with 1 Axes>"
            ]
          },
          "metadata": {},
          "output_type": "display_data"
        }
      ],
      "source": [
        "# O3 \n",
        "all_data_df['O3'].hist()\n",
        "all_data_df.loc[all_data_df['O3'] > 400, 'O3'] = 400"
      ]
    },
    {
      "cell_type": "code",
      "execution_count": 14,
      "metadata": {},
      "outputs": [
        {
          "data": {
            "image/png": "[encoded data removed]",
            "text/plain": [
              "<Figure size 640x480 with 1 Axes>"
            ]
          },
          "metadata": {},
          "output_type": "display_data"
        }
      ],
      "source": [
        "#CO \n",
        "all_data_df['CO'].hist()\n",
        "all_data_df.loc[all_data_df['CO'] > 8000, 'CO'] = 8000"
      ]
    },
    {
      "cell_type": "markdown",
      "metadata": {
        "id": "Q_5ejIqckiSP"
      },
      "source": [
        "**Insight:**\n",
        "- menghilangkan missing values\n",
        "- memperbaiki inaccurate values"
      ]
    },
    {
      "cell_type": "markdown",
      "metadata": {
        "id": "gp-Y6wU38DC1"
      },
      "source": [
        "## Exploratory Data Analysis (EDA)"
      ]
    },
    {
      "cell_type": "markdown",
      "metadata": {
        "id": "MW7WF2kr8DC1"
      },
      "source": [
        "### Explore ..."
      ]
    },
    {
      "cell_type": "markdown",
      "metadata": {},
      "source": [
        "Pertanyaan :\n",
        "- Di antara stasiun Aotizhongxin,Changping,Dingling,Dongsi mana yang memiliki kualitas udara terburuk dalam satu tahun terakhir berdasarkan level PM2.5?\n",
        "- Di bulan apa curah hujan paling tinggi terjadi  di stasiun Aotizhongxin,Changping,Dingling,Dongsi ?"
      ]
    },
    {
      "cell_type": "code",
      "execution_count": 15,
      "metadata": {
        "id": "e9CQCZjk8DC2"
      },
      "outputs": [
        {
          "data": {
            "text/html": [
              "<div>\n",
              "<style scoped>\n",
              "    .dataframe tbody tr th:only-of-type {\n",
              "        vertical-align: middle;\n",
              "    }\n",
              "\n",
              "    .dataframe tbody tr th {\n",
              "        vertical-align: top;\n",
              "    }\n",
              "\n",
              "    .dataframe thead tr th {\n",
              "        text-align: left;\n",
              "    }\n",
              "\n",
              "    .dataframe thead tr:last-of-type th {\n",
              "        text-align: right;\n",
              "    }\n",
              "</style>\n",
              "<table border=\"1\" class=\"dataframe\">\n",
              "  <thead>\n",
              "    <tr>\n",
              "      <th></th>\n",
              "      <th></th>\n",
              "      <th colspan=\"2\" halign=\"left\">PM2.5</th>\n",
              "    </tr>\n",
              "    <tr>\n",
              "      <th></th>\n",
              "      <th></th>\n",
              "      <th>sum</th>\n",
              "      <th>mean</th>\n",
              "    </tr>\n",
              "    <tr>\n",
              "      <th>year</th>\n",
              "      <th>station</th>\n",
              "      <th></th>\n",
              "      <th></th>\n",
              "    </tr>\n",
              "  </thead>\n",
              "  <tbody>\n",
              "    <tr>\n",
              "      <th rowspan=\"4\" valign=\"top\">2013</th>\n",
              "      <th>Aotizhongxin</th>\n",
              "      <td>604405.0</td>\n",
              "      <td>82.299156</td>\n",
              "    </tr>\n",
              "    <tr>\n",
              "      <th>Changping</th>\n",
              "      <td>532787.0</td>\n",
              "      <td>72.547249</td>\n",
              "    </tr>\n",
              "    <tr>\n",
              "      <th>Dingling</th>\n",
              "      <td>473717.0</td>\n",
              "      <td>64.503949</td>\n",
              "    </tr>\n",
              "    <tr>\n",
              "      <th>Dongsi</th>\n",
              "      <td>633299.0</td>\n",
              "      <td>86.233524</td>\n",
              "    </tr>\n",
              "    <tr>\n",
              "      <th rowspan=\"4\" valign=\"top\">2014</th>\n",
              "      <th>Aotizhongxin</th>\n",
              "      <td>775005.5</td>\n",
              "      <td>88.470947</td>\n",
              "    </tr>\n",
              "    <tr>\n",
              "      <th>Changping</th>\n",
              "      <td>687476.3</td>\n",
              "      <td>78.479030</td>\n",
              "    </tr>\n",
              "    <tr>\n",
              "      <th>Dingling</th>\n",
              "      <td>644437.6</td>\n",
              "      <td>73.565936</td>\n",
              "    </tr>\n",
              "    <tr>\n",
              "      <th>Dongsi</th>\n",
              "      <td>761212.2</td>\n",
              "      <td>86.896370</td>\n",
              "    </tr>\n",
              "    <tr>\n",
              "      <th rowspan=\"4\" valign=\"top\">2015</th>\n",
              "      <th>Aotizhongxin</th>\n",
              "      <td>710024.8</td>\n",
              "      <td>81.053059</td>\n",
              "    </tr>\n",
              "    <tr>\n",
              "      <th>Changping</th>\n",
              "      <td>603654.9</td>\n",
              "      <td>68.910377</td>\n",
              "    </tr>\n",
              "    <tr>\n",
              "      <th>Dingling</th>\n",
              "      <td>563425.3</td>\n",
              "      <td>64.317957</td>\n",
              "    </tr>\n",
              "    <tr>\n",
              "      <th>Dongsi</th>\n",
              "      <td>755931.9</td>\n",
              "      <td>86.293596</td>\n",
              "    </tr>\n",
              "    <tr>\n",
              "      <th rowspan=\"4\" valign=\"top\">2016</th>\n",
              "      <th>Aotizhongxin</th>\n",
              "      <td>645667.0</td>\n",
              "      <td>73.504895</td>\n",
              "    </tr>\n",
              "    <tr>\n",
              "      <th>Changping</th>\n",
              "      <td>539684.0</td>\n",
              "      <td>61.439435</td>\n",
              "    </tr>\n",
              "    <tr>\n",
              "      <th>Dingling</th>\n",
              "      <td>522333.0</td>\n",
              "      <td>59.464139</td>\n",
              "    </tr>\n",
              "    <tr>\n",
              "      <th>Dongsi</th>\n",
              "      <td>693114.0</td>\n",
              "      <td>78.906421</td>\n",
              "    </tr>\n",
              "    <tr>\n",
              "      <th rowspan=\"4\" valign=\"top\">2017</th>\n",
              "      <th>Aotizhongxin</th>\n",
              "      <td>132280.0</td>\n",
              "      <td>93.418079</td>\n",
              "    </tr>\n",
              "    <tr>\n",
              "      <th>Changping</th>\n",
              "      <td>112656.0</td>\n",
              "      <td>79.559322</td>\n",
              "    </tr>\n",
              "    <tr>\n",
              "      <th>Dingling</th>\n",
              "      <td>96578.0</td>\n",
              "      <td>68.204802</td>\n",
              "    </tr>\n",
              "    <tr>\n",
              "      <th>Dongsi</th>\n",
              "      <td>142620.0</td>\n",
              "      <td>100.720339</td>\n",
              "    </tr>\n",
              "  </tbody>\n",
              "</table>\n",
              "</div>"
            ],
            "text/plain": [
              "                      PM2.5            \n",
              "                        sum        mean\n",
              "year station                           \n",
              "2013 Aotizhongxin  604405.0   82.299156\n",
              "     Changping     532787.0   72.547249\n",
              "     Dingling      473717.0   64.503949\n",
              "     Dongsi        633299.0   86.233524\n",
              "2014 Aotizhongxin  775005.5   88.470947\n",
              "     Changping     687476.3   78.479030\n",
              "     Dingling      644437.6   73.565936\n",
              "     Dongsi        761212.2   86.896370\n",
              "2015 Aotizhongxin  710024.8   81.053059\n",
              "     Changping     603654.9   68.910377\n",
              "     Dingling      563425.3   64.317957\n",
              "     Dongsi        755931.9   86.293596\n",
              "2016 Aotizhongxin  645667.0   73.504895\n",
              "     Changping     539684.0   61.439435\n",
              "     Dingling      522333.0   59.464139\n",
              "     Dongsi        693114.0   78.906421\n",
              "2017 Aotizhongxin  132280.0   93.418079\n",
              "     Changping     112656.0   79.559322\n",
              "     Dingling       96578.0   68.204802\n",
              "     Dongsi        142620.0  100.720339"
            ]
          },
          "execution_count": 15,
          "metadata": {},
          "output_type": "execute_result"
        }
      ],
      "source": [
        "#memfilter data berdasarkan tahun dan station\n",
        "all_data_df.groupby([\"year\",\"station\"]).agg({\n",
        "    \"PM2.5\" : [\"sum\",\"mean\"],\n",
        "})"
      ]
    },
    {
      "cell_type": "code",
      "execution_count": 16,
      "metadata": {},
      "outputs": [
        {
          "data": {
            "text/plain": [
              "month  station     \n",
              "1      Aotizhongxin      1.0\n",
              "       Changping         0.6\n",
              "       Dingling          0.6\n",
              "       Dongsi            1.0\n",
              "2      Aotizhongxin     29.4\n",
              "       Changping        14.2\n",
              "       Dingling         14.2\n",
              "       Dongsi           32.2\n",
              "3      Aotizhongxin     27.0\n",
              "       Changping        26.4\n",
              "       Dingling         26.4\n",
              "       Dongsi           22.8\n",
              "4      Aotizhongxin     67.8\n",
              "       Changping        55.1\n",
              "       Dingling         55.1\n",
              "       Dongsi           73.8\n",
              "5      Aotizhongxin    141.1\n",
              "       Changping       143.1\n",
              "       Dingling        143.1\n",
              "       Dongsi          134.2\n",
              "6      Aotizhongxin    453.1\n",
              "       Changping       313.5\n",
              "       Dingling        313.5\n",
              "       Dongsi          371.6\n",
              "7      Aotizhongxin    795.3\n",
              "       Changping       767.2\n",
              "       Dingling        767.2\n",
              "       Dongsi          781.1\n",
              "8      Aotizhongxin    346.8\n",
              "       Changping       243.9\n",
              "       Dingling        243.9\n",
              "       Dongsi          261.5\n",
              "9      Aotizhongxin    337.9\n",
              "       Changping       351.5\n",
              "       Dingling        351.5\n",
              "       Dongsi          380.2\n",
              "10     Aotizhongxin    117.6\n",
              "       Changping       118.0\n",
              "       Dingling        118.0\n",
              "       Dongsi          139.3\n",
              "11     Aotizhongxin     43.6\n",
              "       Changping        77.0\n",
              "       Dingling         77.0\n",
              "       Dongsi           43.7\n",
              "12     Aotizhongxin      2.1\n",
              "       Changping         3.1\n",
              "       Dingling          3.1\n",
              "       Dongsi            2.1\n",
              "Name: RAIN, dtype: float64"
            ]
          },
          "execution_count": 16,
          "metadata": {},
          "output_type": "execute_result"
        }
      ],
      "source": [
        "all_data_df.groupby([\"month\",\"station\"]).RAIN.sum()"
      ]
    },
    {
      "cell_type": "markdown",
      "metadata": {
        "id": "th_Lzl2Fkj9O"
      },
      "source": [
        "**Insight:**\n",
        "- diperoleh data yang siap untuk di visualisasikan"
      ]
    },
    {
      "cell_type": "markdown",
      "metadata": {
        "id": "zsyZjqak8DC2"
      },
      "source": [
        "## Visualization & Explanatory Analysis"
      ]
    },
    {
      "cell_type": "markdown",
      "metadata": {
        "id": "HZxOiQ6n8DC2"
      },
      "source": [
        "### Pertanyaan 1: Di antara stasiun Aotizhongxin,Changping,Dingling,Dongsi mana yang memiliki kualitas udara terburuk dalam satu tahun terakhir berdasarkan level PM2.5?"
      ]
    },
    {
      "cell_type": "code",
      "execution_count": 17,
      "metadata": {
        "id": "1swJUdAD8DC2"
      },
      "outputs": [
        {
          "data": {
            "image/png": "[encoded data removed]",
            "text/plain": [
              "<Figure size 1200x600 with 1 Axes>"
            ]
          },
          "metadata": {},
          "output_type": "display_data"
        }
      ],
      "source": [
        "last_year = all_data_df['year'].max()\n",
        "\n",
        "# Filter DataFrame untuk hanya mengambil data dari tahun terakhir\n",
        "filtered_data = all_data_df[all_data_df['year'] == last_year]\n",
        "\n",
        "\n",
        "PM25LastYear = filtered_data.groupby(by= \"station\")['PM2.5'].mean().sort_values(ascending=False)\n",
        "\n",
        "# Membuat bar chart\n",
        "plt.figure(figsize=(12, 6))\n",
        "PM25LastYear.plot(kind='bar', color='skyblue')\n",
        "plt.title(f'Rata-rata PM2.5 per Stasiun di Tahun {last_year}')\n",
        "plt.xlabel('Stasiun')\n",
        "plt.ylabel('Rata-rata PM2.5')\n",
        "plt.xticks(rotation=45)\n",
        "plt.grid(axis='y')\n",
        "\n",
        "plt.show()"
      ]
    },
    {
      "cell_type": "markdown",
      "metadata": {
        "id": "DgHI7CiU8DC2"
      },
      "source": [
        "### Pertanyaan 2: Di bulan apa curah hujan paling tinggi terjadi  di stasiun Aotizhongxin,Changping,Dingling,Dongsi ?"
      ]
    },
    {
      "cell_type": "code",
      "execution_count": 18,
      "metadata": {
        "id": "Go0lCsvO8DC2"
      },
      "outputs": [
        {
          "data": {
            "image/png": "[encoded data removed]",
            "text/plain": [
              "<Figure size 1200x600 with 1 Axes>"
            ]
          },
          "metadata": {},
          "output_type": "display_data"
        }
      ],
      "source": [
        "rain_data = all_data_df.groupby([\"month\", \"station\"])['RAIN'].sum().unstack() #unstack digunakan untuk mengubah hasil agregasi sehingga setiap stasiun menjadi kolom\n",
        "\n",
        "rain_data.plot(kind='bar', figsize=(12, 6), width=0.8)\n",
        "\n",
        "# Pengaturan grafik\n",
        "plt.title('Total Curah Hujan per Stasiun per Bulan')\n",
        "plt.xlabel('Bulan')\n",
        "plt.ylabel('Total Curah Hujan')\n",
        "plt.xticks(rotation=0)\n",
        "plt.legend(title='Stasiun', bbox_to_anchor=(1.05, 1), loc='upper left')\n",
        "plt.grid(axis='y')\n",
        "\n",
        "plt.show()"
      ]
    },
    {
      "cell_type": "markdown",
      "metadata": {
        "id": "_0-36BDLklRg"
      },
      "source": [
        "**Insight:**\n",
        "- visualisasi data menggunakan barchart dan multi barchart "
      ]
    },
    {
      "cell_type": "markdown",
      "metadata": {
        "id": "_WeHlCeX8DC2"
      },
      "source": [
        "## Conclusion"
      ]
    },
    {
      "cell_type": "markdown",
      "metadata": {
        "id": "ZTcyR48Y8DC2"
      },
      "source": [
        "- Di antara stasiun Aotizhongxin,Changping,Dingling,Dongsi mana yang memiliki kualitas udara terburuk dalam satu tahun terakhir berdasarkan level PM2.5? \n",
        "Jawab : Di tahun terakhir (2017) stasiun Dongsi memiliki kualitas udara terburuk berdasarkan level PM 2.5 dengan rata rata 102.04 \n",
        "\n",
        "- Di bulan apa curah hujan paling tinggi terjadi  di stasiun Aotizhongxin,Changping,Dingling,Dongsi ? \n",
        "Jawab : Untuk semua stasiun curah hujan paling tinggi terjadi di bulan 07 (Juli) "
      ]
    },
    {
      "cell_type": "markdown",
      "metadata": {},
      "source": []
    },
    {
      "cell_type": "code",
      "execution_count": 19,
      "metadata": {},
      "outputs": [],
      "source": [
        "all_data_df.to_csv(\"data.csv\", index=False)"
      ]
    }
  ],
  "metadata": {
    "colab": {
      "provenance": []
    },
    "kernelspec": {
      "display_name": "Python 3.12.0 64-bit",
      "language": "python",
      "name": "python3"
    },
    "language_info": {
      "codemirror_mode": {
        "name": "ipython",
        "version": 3
      },
      "file_extension": ".py",
      "mimetype": "text/x-python",
      "name": "python",
      "nbconvert_exporter": "python",
      "pygments_lexer": "ipython3",
      "version": "3.12.0"
    },
    "orig_nbformat": 4,
    "vscode": {
      "interpreter": {
        "hash": "3fcbd7240ee8f908d933dc7f71e8c42a1a91163b70ede8dcff5146d4087436c7"
      }
    }
  },
  "nbformat": 4,
  "nbformat_minor": 0
}
